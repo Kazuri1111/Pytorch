{
 "cells": [
  {
   "cell_type": "markdown",
   "metadata": {},
   "source": [
    "メモ：RMSDを比較することで、良い特徴量だけを選び出す。さらに、それらの良い特徴量だけで計算を行い、全部入りの計算結果と比較して性能差がどれくらいあるか調べる。性能差がそこまで変わらず、計算時間が減ったら嬉しい。"
   ]
  },
  {
   "cell_type": "code",
   "execution_count": 170,
   "metadata": {},
   "outputs": [],
   "source": [
    "import pandas as pd\n",
    "import pickle\n",
    "import rdkit\n",
    "from rdkit import Chem, RDLogger\n",
    "from rdkit.Chem import PandasTools\n",
    "from rdkit.Chem.rdchem import BondType as BT\n",
    "from rdkit.Chem.rdchem import HybridizationType\n",
    "import rdkit.Chem.AllChem as AllChem\n",
    "import torch\n",
    "import torch_geometric as pyg\n",
    "import torch.nn as nn\n",
    "from torch.nn import Parameter\n",
    "import torch.nn.functional as F\n",
    "from torch_geometric.utils import one_hot, scatter\n",
    "from torch.utils.data import Dataset, DataLoader\n",
    "from torch_geometric.data import Data, Dataset, InMemoryDataset, download_url, extract_zip\n",
    "from torch_geometric.datasets import QM9\n",
    "from torch_geometric.nn import GCNConv, NNConv\n",
    "from torch_geometric.nn.conv import GATv2Conv, GATConv, TransformerConv\n",
    "from torch_geometric.nn.models import MLP\n",
    "from torch_geometric.loader import DataLoader\n",
    "from torch_geometric.transforms import NormalizeFeatures\n",
    "from torch_geometric.utils import one_hot, scatter\n",
    "from torch.utils.data import random_split\n",
    "import matplotlib.pyplot as plt\n",
    "import numpy as np\n",
    "import time\n",
    "import pandas as pd\n",
    "import os\n",
    "import os.path as osp\n",
    "import pickle\n",
    "import sys\n",
    "import shutil\n",
    "from typing import Callable, List, Optional"
   ]
  },
  {
   "cell_type": "code",
   "execution_count": 2,
   "metadata": {},
   "outputs": [
    {
     "ename": "KeyboardInterrupt",
     "evalue": "",
     "output_type": "error",
     "traceback": [
      "\u001b[0;31m---------------------------------------------------------------------------\u001b[0m",
      "\u001b[0;31mKeyboardInterrupt\u001b[0m                         Traceback (most recent call last)",
      "\u001b[1;32m/home/higuchi/Pytorch/GCN/OwnModel/PyG_ownmodel.ipynb Cell 2\u001b[0m line \u001b[0;36m1\n\u001b[1;32m     <a href='vscode-notebook-cell:/home/higuchi/Pytorch/GCN/OwnModel/PyG_ownmodel.ipynb#W1sZmlsZQ%3D%3D?line=16'>17</a>\u001b[0m \u001b[39mfor\u001b[39;00m mol \u001b[39min\u001b[39;00m mols_Hs:\n\u001b[1;32m     <a href='vscode-notebook-cell:/home/higuchi/Pytorch/GCN/OwnModel/PyG_ownmodel.ipynb#W1sZmlsZQ%3D%3D?line=17'>18</a>\u001b[0m     ETKDG \u001b[39m=\u001b[39m AllChem\u001b[39m.\u001b[39mETKDG()\n\u001b[0;32m---> <a href='vscode-notebook-cell:/home/higuchi/Pytorch/GCN/OwnModel/PyG_ownmodel.ipynb#W1sZmlsZQ%3D%3D?line=18'>19</a>\u001b[0m     AllChem\u001b[39m.\u001b[39;49mEmbedMolecule(mol, ETKDG)\n\u001b[1;32m     <a href='vscode-notebook-cell:/home/higuchi/Pytorch/GCN/OwnModel/PyG_ownmodel.ipynb#W1sZmlsZQ%3D%3D?line=19'>20</a>\u001b[0m     mols_ETKDG\u001b[39m.\u001b[39mappend(mol)\n",
      "\u001b[0;31mKeyboardInterrupt\u001b[0m: "
     ]
    }
   ],
   "source": [
    "qm9csv = pd.read_csv(\"/home/higuchi/Pytorch/GCN/QM9/raw/gdb9.sdf.csv\")\n",
    "sdf = \"/home/higuchi/Pytorch/GCN/QM9/raw/gdb9.sdf\"\n",
    "#mols = rdkit.Chem.SDMolSupplier(sdf, removeHs=False) #sdfからmolオブジェクトを生成\n",
    "#mols = [m for m in mols if m is not None]\n",
    "with open(\"mols_unprocessed\", \"rb\") as f:\n",
    "    mols = pickle.load(f)\n",
    "\n",
    "# ETKDG Process (Mettya zikan kakaru...)\n",
    "mols_ETKDG = []\n",
    "mols_Hs = [rdkit.Chem.AddHs(mol) for mol in mols]\n",
    "for mol in mols_Hs:\n",
    "    ETKDG = AllChem.ETKDG()\n",
    "    AllChem.EmbedMolecule(mol, ETKDG)\n",
    "    mols_ETKDG.append(mol)"
   ]
  },
  {
   "cell_type": "code",
   "execution_count": 4,
   "metadata": {},
   "outputs": [
    {
     "ename": "ModuleNotFoundError",
     "evalue": "No module named 'deepchem'",
     "output_type": "error",
     "traceback": [
      "\u001b[0;31m---------------------------------------------------------------------------\u001b[0m",
      "\u001b[0;31mModuleNotFoundError\u001b[0m                       Traceback (most recent call last)",
      "\u001b[1;32m/home/higuchi/Pytorch/GCN/OwnModel/PyG_ownmodel.ipynb Cell 4\u001b[0m line \u001b[0;36m2\n\u001b[1;32m      <a href='vscode-notebook-cell:/home/higuchi/Pytorch/GCN/OwnModel/PyG_ownmodel.ipynb#W2sZmlsZQ%3D%3D?line=0'>1</a>\u001b[0m \u001b[39m# 3D structure generation with DeepChem (Hayai! approx. 2m)\u001b[39;00m\n\u001b[0;32m----> <a href='vscode-notebook-cell:/home/higuchi/Pytorch/GCN/OwnModel/PyG_ownmodel.ipynb#W2sZmlsZQ%3D%3D?line=1'>2</a>\u001b[0m \u001b[39mimport\u001b[39;00m \u001b[39mdeepchem\u001b[39;00m\n\u001b[1;32m      <a href='vscode-notebook-cell:/home/higuchi/Pytorch/GCN/OwnModel/PyG_ownmodel.ipynb#W2sZmlsZQ%3D%3D?line=2'>3</a>\u001b[0m featurizer \u001b[39m=\u001b[39m deepchem\u001b[39m.\u001b[39mfeat\u001b[39m.\u001b[39mMol2VecFingerprint()\n\u001b[1;32m      <a href='vscode-notebook-cell:/home/higuchi/Pytorch/GCN/OwnModel/PyG_ownmodel.ipynb#W2sZmlsZQ%3D%3D?line=3'>4</a>\u001b[0m mols_features \u001b[39m=\u001b[39m []\n",
      "\u001b[0;31mModuleNotFoundError\u001b[0m: No module named 'deepchem'"
     ]
    }
   ],
   "source": [
    "# 3D structure generation with DeepChem (Hayai! approx. 2m)\n",
    "import deepchem\n",
    "featurizer = deepchem.feat.Mol2VecFingerprint()\n",
    "mols_features = []\n",
    "for mol in mols_Hs:\n",
    "    features = featurizer.featurize(rdkit.Chem.MolToSmiles(mol))\n",
    "    mols_features.append(features)"
   ]
  },
  {
   "cell_type": "markdown",
   "metadata": {},
   "source": [
    "Setting:\n",
    "layer=3, hidden_layer=64\n",
    "epoch_num=100"
   ]
  },
  {
   "cell_type": "code",
   "execution_count": 163,
   "metadata": {},
   "outputs": [
    {
     "name": "stderr",
     "output_type": "stream",
     "text": [
      "Processing...\n",
      "100%|██████████| 133885/133885 [00:40<00:00, 3303.54it/s]\n",
      "Done!\n"
     ]
    }
   ],
   "source": [
    "#dataset_all = MyQM9(root=\"./\")\n",
    "shutil.rmtree(\"./QM9_reduced/processed/\")\n",
    "dataset_reduced = MyQM9(root=\"./QM9_reduced\")"
   ]
  },
  {
   "cell_type": "code",
   "execution_count": 173,
   "metadata": {},
   "outputs": [
    {
     "data": {
      "text/plain": [
       "tensor([[0., 1., 0., 0., 0., 6., 0., 0., 0., 0., 3.],\n",
       "        [0., 1., 0., 0., 0., 6., 0., 0., 0., 0., 2.],\n",
       "        [0., 1., 0., 0., 0., 6., 0., 0., 0., 0., 0.],\n",
       "        [0., 1., 0., 0., 0., 6., 0., 0., 0., 0., 2.],\n",
       "        [0., 1., 0., 0., 0., 6., 0., 0., 0., 0., 3.],\n",
       "        [0., 1., 0., 0., 0., 6., 0., 0., 0., 0., 2.],\n",
       "        [0., 1., 0., 0., 0., 6., 0., 0., 0., 0., 1.],\n",
       "        [0., 1., 0., 0., 0., 6., 0., 0., 0., 0., 2.],\n",
       "        [0., 1., 0., 0., 0., 6., 0., 0., 0., 0., 1.],\n",
       "        [1., 0., 0., 0., 0., 1., 0., 0., 0., 0., 0.],\n",
       "        [1., 0., 0., 0., 0., 1., 0., 0., 0., 0., 0.],\n",
       "        [1., 0., 0., 0., 0., 1., 0., 0., 0., 0., 0.],\n",
       "        [1., 0., 0., 0., 0., 1., 0., 0., 0., 0., 0.],\n",
       "        [1., 0., 0., 0., 0., 1., 0., 0., 0., 0., 0.],\n",
       "        [1., 0., 0., 0., 0., 1., 0., 0., 0., 0., 0.],\n",
       "        [1., 0., 0., 0., 0., 1., 0., 0., 0., 0., 0.],\n",
       "        [1., 0., 0., 0., 0., 1., 0., 0., 0., 0., 0.],\n",
       "        [1., 0., 0., 0., 0., 1., 0., 0., 0., 0., 0.],\n",
       "        [1., 0., 0., 0., 0., 1., 0., 0., 0., 0., 0.],\n",
       "        [1., 0., 0., 0., 0., 1., 0., 0., 0., 0., 0.],\n",
       "        [1., 0., 0., 0., 0., 1., 0., 0., 0., 0., 0.],\n",
       "        [1., 0., 0., 0., 0., 1., 0., 0., 0., 0., 0.],\n",
       "        [1., 0., 0., 0., 0., 1., 0., 0., 0., 0., 0.],\n",
       "        [1., 0., 0., 0., 0., 1., 0., 0., 0., 0., 0.],\n",
       "        [1., 0., 0., 0., 0., 1., 0., 0., 0., 0., 0.]])"
      ]
     },
     "execution_count": 173,
     "metadata": {},
     "output_type": "execute_result"
    }
   ],
   "source": [
    "import random\n",
    "random.choice(dataset_all).x"
   ]
  },
  {
   "cell_type": "code",
   "execution_count": 164,
   "metadata": {},
   "outputs": [],
   "source": [
    "class GCN(torch.nn.Module):\n",
    "    def __init__(self):\n",
    "        super().__init__()\n",
    "        #self.conv1 = GCNConv(dataset.num_node_features, 32)\n",
    "        self.conv1 = GCNConv(dataset.num_node_features, 32)\n",
    "        self.conv2 = GCNConv(32, 32)\n",
    "        self.linear1 = nn.Linear(16,1)\n",
    "        self.out = nn.Linear(32, 1)\n",
    "        #self.conv3 = GCNConv(32, dataset.num_classes) #num_classes:ラベルの数\n",
    "    #バッチノルム(正則化)\n",
    "    def forward(self, data):\n",
    "        x, batch, edge_index, edge_attr = data.x, data.batch, data.edge_index, data.edge_attr\n",
    "        # Dropout:一定割合のノードを不活性化(0になる)させ、過学習を緩和する。pはゼロになるノードの確率で、0.5がデフォルト。\n",
    "        x = self.conv1(x, edge_index)\n",
    "        x = F.relu(x)\n",
    "        x = self.conv2(x, edge_index)\n",
    "        x = F.relu(x)\n",
    "        x = torch_geometric.nn.global_add_pool(x, batch) #これが必要やった\n",
    "        #x = F.dropout(x, p=0.2, training=self.training) # 取ってみる\n",
    "        x = self.out(x)\n",
    "        return x\n",
    "\n",
    "class GCN_N(torch.nn.Module):\n",
    "    def __init__(self, layer:int, dim=32, dataset=dataset):\n",
    "        super().__init__()\n",
    "        self.layer = layer\n",
    "        self.dataset = dataset\n",
    "        self.dim = dim\n",
    "        self.conv1 = GCNConv(self.dataset.num_node_features, self.dim, improved=True)\n",
    "        self.convn = GCNConv(self.dim, self.dim, improved=True)\n",
    "        self.out = pyg.nn.Linear(self.dim, 1)\n",
    "\n",
    "    def forward(self, data):\n",
    "        x, batch, edge_index, edge_attr = data.x, data.batch, data.edge_index, data.edge_attr\n",
    "        x = self.conv1(x, edge_index)\n",
    "        x = F.relu(x)\n",
    "        for i in range(2, self.layer + 1):\n",
    "            x = self.convn(x, edge_index)\n",
    "            x = F.relu(x)\n",
    "        x = pyg.nn.global_add_pool(x, batch) \n",
    "        #x = F.dropout(x, p=0.2, training=self.training)\n",
    "        x = self.out(x)\n",
    "        return x"
   ]
  },
  {
   "cell_type": "code",
   "execution_count": null,
   "metadata": {},
   "outputs": [],
   "source": [
    "HAR2EV = 27.211386246\n",
    "KCALMOL2EV = 0.04336414\n",
    "\n",
    "conversion = torch.tensor([\n",
    "    1., 1., HAR2EV, HAR2EV, HAR2EV, 1., HAR2EV, HAR2EV, HAR2EV, HAR2EV, HAR2EV,\n",
    "    1., KCALMOL2EV, KCALMOL2EV, KCALMOL2EV, KCALMOL2EV, 1., 1., 1.\n",
    "])\n",
    "\n",
    "atomrefs = {\n",
    "    6: [0., 0., 0., 0., 0.],\n",
    "    7: [\n",
    "        -13.61312172, -1029.86312267, -1485.30251237, -2042.61123593,\n",
    "        -2713.48485589\n",
    "    ],\n",
    "    8: [\n",
    "        -13.5745904, -1029.82456413, -1485.26398105, -2042.5727046,\n",
    "        -2713.44632457\n",
    "    ],\n",
    "    9: [\n",
    "        -13.54887564, -1029.79887659, -1485.2382935, -2042.54701705,\n",
    "        -2713.42063702\n",
    "    ],\n",
    "    10: [\n",
    "        -13.90303183, -1030.25891228, -1485.71166277, -2043.01812778,\n",
    "        -2713.88796536\n",
    "    ],\n",
    "    11: [0., 0., 0., 0., 0.],\n",
    "}\n",
    "\n",
    "#消す記述子の選択\n",
    "descriptors = [atomic_number, aromatic, sp, sp2, sp3]\n",
    "for desc in descriptors:\n",
    "    descriptors = [atomic_number, aromatic, sp, sp2, sp3]\n",
    "    descriptors.remove(desc)\n",
    "\n",
    "    shutil.rmtree(\"./QM9_reduced/processed/\")\n",
    "    dataset_reduced = MyQM9(root=\"./QM9_reduced\")\n",
    "\n",
    "    class MyQM9(InMemoryDataset):\n",
    "        def __init__(self, root, transform=None, pre_transform=None, pre_filter=None, pre_reduced=None):\n",
    "            super().__init__(root, transform, pre_transform, pre_filter)\n",
    "            self.data, self.slices = torch.load(self.processed_paths[0])\n",
    "\n",
    "        def mean(self, target: int) -> float:\n",
    "            y = torch.cat([self.get(i).y for i in range(len(self))], dim=0)\n",
    "            return float(y[:, target].mean())\n",
    "\n",
    "        def std(self, target: int) -> float:\n",
    "            y = torch.cat([self.get(i).y for i in range(len(self))], dim=0)\n",
    "            return float(y[:, target].std())\n",
    "\n",
    "        def atomref(self, target) -> Optional[torch.Tensor]:\n",
    "            if target in atomrefs:\n",
    "                out = torch.zeros(100)\n",
    "                out[torch.tensor([1, 6, 7, 8, 9])] = torch.tensor(atomrefs[target])\n",
    "                return out.view(-1, 1)\n",
    "            return None\n",
    "            \n",
    "        @property\n",
    "        def raw_file_names(self):\n",
    "            return ['gdb9.sdf', 'gdb9.sdf.csv', 'uncharacterized.txt']\n",
    "        \n",
    "        @property\n",
    "        def processed_file_names(self):\n",
    "            return \"data_v3.pt\"\n",
    "        \n",
    "        def download(self):\n",
    "            pass\n",
    "        \n",
    "        def process(self):\n",
    "            self.csv = pd.read_csv(self.raw_paths[0]).reindex(columns=[\"mu\", \"alpha\", \"homo\", \"lumo\", \"gap\", \"r2\", \"zpve\", \"u0\", \"u298\", \"h298\", \"g298\", \"cv\", \"u0_atom\", \"u298_atom\", \"h298_atom\", \"g298_atom\", \"A\", \"B\", \"C\"])\n",
    "            \n",
    "            types = {'H': 0, 'C': 1, 'N': 2, 'O': 3, 'F': 4}\n",
    "            bonds = {BT.SINGLE: 0, BT.DOUBLE: 1, BT.TRIPLE: 2, BT.AROMATIC: 3}\n",
    "            #回帰ターゲット\n",
    "\n",
    "            with open(self.raw_paths[1], 'r') as f:\n",
    "                target = f.read().split('\\n')[1:-1]\n",
    "                target = [[float(x) for x in line.split(',')[1:20]]\n",
    "                        for line in target]\n",
    "                target = torch.tensor(target, dtype=torch.float)\n",
    "                target = torch.cat([target[:, 3:], target[:, :3]], dim=-1)\n",
    "                target = target * conversion.view(1, -1)\n",
    "            self.target = target\n",
    "            with open(self.raw_paths[2]) as f:\n",
    "                #計算できんかったやつ\n",
    "                skip = [int(x.split()[0]) - 1 for x in f.read().split('\\n')[9:-2]]\n",
    "            \n",
    "            suppl = Chem.SDMolSupplier(self.raw_paths[0], removeHs=False, sanitize=False)\n",
    "\n",
    "            data_list = []\n",
    "            for i, mol in enumerate(tqdm.tqdm(suppl)):\n",
    "                if i in skip: #計算できんかったやつを飛ばす\n",
    "                    continue\n",
    "                \n",
    "                N = mol.GetNumAtoms() #分子の原子数\n",
    "                \n",
    "                conf = mol.GetConformer()\n",
    "                pos = conf.GetPositions()\n",
    "                pos = torch.tensor(pos, dtype=torch.float) #分子の原子の座標\n",
    "\n",
    "                type_idx = []\n",
    "                atomic_number = []\n",
    "                aromatic = []\n",
    "                sp = []\n",
    "                sp2 = []\n",
    "                sp3 = []\n",
    "                num_hs = []\n",
    "                for atom in mol.GetAtoms():\n",
    "                    type_idx.append(types[atom.GetSymbol()])\n",
    "                    atomic_number.append(atom.GetAtomicNum())\n",
    "                    aromatic.append(1 if atom.GetIsAromatic() else 0)\n",
    "                    hybridization = atom.GetHybridization()\n",
    "                    sp.append(1 if hybridization == HybridizationType.SP else 0)\n",
    "                    sp2.append(1 if hybridization == HybridizationType.SP2 else 0)\n",
    "                    sp3.append(1 if hybridization == HybridizationType.SP3 else 0)\n",
    "                z = torch.tensor(atomic_number, dtype=torch.long)\n",
    "                \n",
    "                row, col, edge_type = [], [], []\n",
    "                for bond in mol.GetBonds():\n",
    "                    start, end = bond.GetBeginAtomIdx(), bond.GetEndAtomIdx()\n",
    "                    row += [start, end]\n",
    "                    col += [end, start]\n",
    "                    edge_type += 2 * [bonds[bond.GetBondType()]]\n",
    "\n",
    "                edge_index = torch.tensor([row, col], dtype=torch.long)\n",
    "                edge_type = torch.tensor(edge_type, dtype=torch.long)\n",
    "                edge_attr = one_hot(edge_type, num_classes=len(bonds))\n",
    "                perm = (edge_index[0] * N + edge_index[1]).argsort()\n",
    "                edge_index = edge_index[:, perm]\n",
    "                edge_type = edge_type[perm]\n",
    "                edge_attr = edge_attr[perm]\n",
    "\n",
    "                row, col = edge_index\n",
    "                hs = (z == 1).to(torch.float)\n",
    "                num_hs = scatter(hs[row], col, dim_size=N, reduce='sum').tolist()\n",
    "                x1 = one_hot(torch.tensor(type_idx), num_classes=len(types))\n",
    "                #x2 = torch.tensor([atomic_number, aromatic, sp, sp2, sp3, num_hs],\n",
    "                                #dtype=torch.float).t().contiguous()\n",
    "                x2 = torch.tensor([atomic_number, aromatic, sp, sp2, sp3],\n",
    "                                dtype=torch.float).t().contiguous()\n",
    "                x = torch.cat([x1, x2], dim=-1)\n",
    "                y = target[i].unsqueeze(0)\n",
    "                name = mol.GetProp('_Name')\n",
    "                smiles = rdkit.Chem.MolToSmiles(mol, isomericSmiles=True)\n",
    "                data = Data(x=x, z=z, pos=pos, edge_index=edge_index, smiles=smiles, edge_attr=edge_attr, y=y, name=name, idx=i)\n",
    "                data_list.append(data)\n",
    "\n",
    "            torch.save(self.collate(data_list), self.processed_paths[0])\n",
    "\n",
    "    dataset = dataset_reduced #必ずチェック！！\n",
    "    #データの分割(total: 130831)\n",
    "    num_train, num_val = int(len(dataset)*0.8), int(len(dataset)*0.1)\n",
    "    num_test = len(dataset) - (num_train + num_val)\n",
    "    batch_size = 32\n",
    "\n",
    "    # 乱数の固定\n",
    "    #pyg.seed_everything(seed=seed)\n",
    "    \"\"\"\n",
    "    random.seed(seed)\n",
    "    np.random.seed(seed)\n",
    "    torch.manual_seed(seed)\n",
    "    torch.cuda.manual_seed_all(seed)\n",
    "    \"\"\"\n",
    "    # 乱数の固定(DataLoader用)\n",
    "    def seed_worker(worker_id):\n",
    "        worker_seed = 0\n",
    "        np.random.seed(worker_seed)\n",
    "        random.seed(worker_seed)\n",
    "        torch.manual_seed(seed)\n",
    "        torch.cuda.manual_seed_all(seed)\n",
    "    torch.backends.cudnn.deterministic = True\n",
    "    torch.backends.cudnn.benchmark = False\n",
    "    train_set, valid_set, test_set = random_split(dataset, [num_train, num_val, num_test], g.manual_seed(0))\n",
    "\n",
    "    #Dataloaderの生成\n",
    "    train_loader = DataLoader(train_set, batch_size=batch_size, worker_init_fn=seed_worker)\n",
    "    valid_loader = DataLoader(valid_set, batch_size=batch_size, worker_init_fn=seed_worker)\n",
    "    test_loader = DataLoader(test_set, batch_size=batch_size, worker_init_fn=seed_worker)\n",
    "\n",
    "    from math import sqrt as sqrt\n",
    "\n",
    "    device = \"cuda\"\n",
    "    def train(criterion):\n",
    "        results = []\n",
    "        # 学習前に毎回実行する\n",
    "        model = GCN_N(layer=layer,dim=dim).to(device)\n",
    "        # Optimizerの初期化\n",
    "        optimizer = torch.optim.Adam(params=model.parameters(), lr=0.01, weight_decay=5e-4)\n",
    "        for epoch in range(epoch_num):\n",
    "            # train\n",
    "            model.train()\n",
    "            train_loss = 0\n",
    "            total_graphs = 0\n",
    "            for batch in train_loader:\n",
    "                batch = batch.to(device)\n",
    "                optimizer.zero_grad()\n",
    "                prediction = model(batch)\n",
    "                loss = criterion(prediction, batch.y[:, target_idx].unsqueeze(1))\n",
    "                loss.backward()\n",
    "                train_loss += loss.item()\n",
    "                total_graphs += batch.num_graphs\n",
    "                optimizer.step()\n",
    "            train_loss /=  len(train_loader) #損失の平均(batchあたり) #平均を取ってからルート\n",
    "            if criterion == mse:\n",
    "                train_loss = sqrt(train_loss)\n",
    "            else:\n",
    "                pass\n",
    "        \n",
    "            # validation\n",
    "            model.eval()\n",
    "            valid_loss = 0\n",
    "            total_graphs = 0\n",
    "            with torch.inference_mode(): # 自動微分無効。torch.no_grad()よりさらに高速化\n",
    "                for batch in valid_loader:\n",
    "                    batch = batch.to(device)\n",
    "                    prediction = model(batch)\n",
    "                    loss = criterion(prediction, batch.y[:, target_idx].unsqueeze(1))\n",
    "                    valid_loss += loss.item()\n",
    "                    total_graphs += batch.num_graphs\n",
    "            valid_loss /= len(valid_loader)\n",
    "            if criterion == mse:\n",
    "                valid_loss = sqrt(valid_loss)\n",
    "            else:\n",
    "                pass\n",
    "\n",
    "            print(f\"Epoch {epoch+1} | train_loss:{train_loss}, valid_loss:{valid_loss}\")\n",
    "            results.append({\"Epoch\":epoch+1, \"train_loss\":train_loss, \"valid_loss\":valid_loss})\n",
    "        return results\n",
    "\n",
    "    layer = 3\n",
    "    dim = 64\n",
    "    epoch_num = 100\n",
    "    target_idx = 1\n",
    "    mse = F.mse_loss\n",
    "\n",
    "    start = time.time()\n",
    "    results = train(mse) #RMSE\n",
    "    end = time.time()\n",
    "    diff = end-start\n",
    "\n",
    "    results = {\"results\":results, \"time\":diff}\n",
    "    desc_str = desc_dict[desc]\n",
    "    with open(f\"./results/GCN_without_{desc_str}\", \"wb\") as f:\n",
    "        pickle.dump(results, f)\n",
    "        \n",
    "\"\"\"\n",
    "あとは定義分を別のセルに掃きだして、desc_dictも書く(いけるか！？)\n",
    "\"\"\""
   ]
  },
  {
   "cell_type": "code",
   "execution_count": 167,
   "metadata": {},
   "outputs": [
    {
     "name": "stdout",
     "output_type": "stream",
     "text": [
      "Epoch 1 | train_loss:3.7805748159096537, valid_loss:2.2020499783676266\n",
      "Epoch 2 | train_loss:2.4625972406200383, valid_loss:2.7492552500466503\n",
      "Epoch 3 | train_loss:2.2996684387931965, valid_loss:2.273204898522485\n",
      "Epoch 4 | train_loss:2.21226629697398, valid_loss:2.0233443087729084\n",
      "Epoch 5 | train_loss:2.0846563398934617, valid_loss:2.0374822867661777\n",
      "Epoch 6 | train_loss:1.9525317650987386, valid_loss:1.8828890799347402\n",
      "Epoch 7 | train_loss:1.9100212261239244, valid_loss:1.7607560980926915\n",
      "Epoch 8 | train_loss:1.8411245867869408, valid_loss:1.7560766026537558\n",
      "Epoch 9 | train_loss:1.8129969890345972, valid_loss:1.7394392435121901\n",
      "Epoch 10 | train_loss:1.8315092073373238, valid_loss:1.6086768922370274\n",
      "Epoch 11 | train_loss:1.8128225969329241, valid_loss:1.668295014009324\n",
      "Epoch 12 | train_loss:1.760970030633377, valid_loss:1.6448080763902364\n",
      "Epoch 13 | train_loss:1.722129406809043, valid_loss:1.638381103439897\n",
      "Epoch 14 | train_loss:1.7188998839473522, valid_loss:1.5818626605301067\n",
      "Epoch 15 | train_loss:1.6864700695512733, valid_loss:1.6894780959465723\n",
      "Epoch 16 | train_loss:1.6774195558356777, valid_loss:1.5797076756812747\n",
      "Epoch 17 | train_loss:1.6498733051701486, valid_loss:1.6277721470236926\n",
      "Epoch 18 | train_loss:1.6548916693850395, valid_loss:1.496338203207354\n",
      "Epoch 19 | train_loss:1.6354023075748492, valid_loss:1.5720847470702637\n",
      "Epoch 20 | train_loss:1.6492743352635806, valid_loss:1.4976670111449029\n",
      "Epoch 21 | train_loss:1.6160759895684773, valid_loss:1.4406415498327332\n",
      "Epoch 22 | train_loss:1.609165586099994, valid_loss:1.4100140536710983\n",
      "Epoch 23 | train_loss:1.596590850398308, valid_loss:1.4556650408735974\n",
      "Epoch 24 | train_loss:1.6354237497763606, valid_loss:1.5122200545052695\n",
      "Epoch 25 | train_loss:1.6440292722528733, valid_loss:1.4017661757689759\n",
      "Epoch 26 | train_loss:1.5863980849771016, valid_loss:1.4539073814869148\n",
      "Epoch 27 | train_loss:1.5843742248656791, valid_loss:1.4631314465999092\n",
      "Epoch 28 | train_loss:1.588810563550389, valid_loss:1.4255277214118318\n",
      "Epoch 29 | train_loss:1.5725245789857463, valid_loss:1.380270650509497\n",
      "Epoch 30 | train_loss:1.5620243801789528, valid_loss:1.37058093023515\n",
      "Epoch 31 | train_loss:1.5851852651058713, valid_loss:1.5509068604766083\n",
      "Epoch 32 | train_loss:1.5628689124234527, valid_loss:1.552488353918318\n",
      "Epoch 33 | train_loss:1.5537658853577638, valid_loss:1.4295822468304957\n",
      "Epoch 34 | train_loss:1.5752016053157911, valid_loss:1.4091939435667766\n",
      "Epoch 35 | train_loss:1.5772767041467541, valid_loss:1.8416914250122547\n",
      "Epoch 36 | train_loss:1.7102862633333602, valid_loss:1.8102667572400315\n",
      "Epoch 37 | train_loss:1.6781132743366993, valid_loss:1.6417505968557322\n",
      "Epoch 38 | train_loss:1.625041919986413, valid_loss:1.4649025492537326\n",
      "Epoch 39 | train_loss:1.6104351070474192, valid_loss:1.556278679296976\n",
      "Epoch 40 | train_loss:1.7154158266932034, valid_loss:1.4908665472614013\n",
      "Epoch 41 | train_loss:1.60992567909908, valid_loss:1.610082917839006\n",
      "Epoch 42 | train_loss:1.6199421622373216, valid_loss:1.6185811973248614\n",
      "Epoch 43 | train_loss:1.6116829725516497, valid_loss:1.6939056573274542\n",
      "Epoch 44 | train_loss:1.604338870152187, valid_loss:1.5377359755343851\n",
      "Epoch 45 | train_loss:1.5703715022068943, valid_loss:1.404881606332247\n",
      "Epoch 46 | train_loss:1.5367609303822434, valid_loss:1.4293334084949978\n",
      "Epoch 47 | train_loss:1.5232615853128244, valid_loss:1.484078734524439\n",
      "Epoch 48 | train_loss:1.589133336164596, valid_loss:1.4284994980913928\n",
      "Epoch 49 | train_loss:1.5520220002767235, valid_loss:1.3988174902004897\n",
      "Epoch 50 | train_loss:1.5234627151349207, valid_loss:1.6178758251091216\n",
      "Epoch 51 | train_loss:1.5395264523873913, valid_loss:1.4452474695568247\n",
      "Epoch 52 | train_loss:1.5239783232074222, valid_loss:1.5297024938643455\n",
      "Epoch 53 | train_loss:1.527455352323748, valid_loss:1.4979862710839138\n",
      "Epoch 54 | train_loss:1.5187121624648574, valid_loss:1.4229717920066673\n",
      "Epoch 55 | train_loss:1.5425477946625652, valid_loss:1.4632263385642932\n",
      "Epoch 56 | train_loss:1.5194010640126814, valid_loss:1.448075930269353\n",
      "Epoch 57 | train_loss:1.5334844756685717, valid_loss:1.4449937597907603\n",
      "Epoch 58 | train_loss:1.5255778229147958, valid_loss:1.5134446438761453\n",
      "Epoch 59 | train_loss:1.5206578213323874, valid_loss:1.4600806799016988\n",
      "Epoch 60 | train_loss:1.51806930956975, valid_loss:1.459229615389071\n",
      "Epoch 61 | train_loss:1.5280693704663033, valid_loss:1.450960343835415\n",
      "Epoch 62 | train_loss:1.5250948720514863, valid_loss:1.4973046965568266\n",
      "Epoch 63 | train_loss:1.553907983758984, valid_loss:1.3511924583206574\n",
      "Epoch 64 | train_loss:1.52537083352543, valid_loss:1.5062709850890574\n",
      "Epoch 65 | train_loss:1.5169855552192892, valid_loss:1.4373165065003306\n",
      "Epoch 66 | train_loss:1.5137620121187279, valid_loss:1.4400919352807175\n",
      "Epoch 67 | train_loss:1.5161661123520613, valid_loss:1.4417286397190938\n",
      "Epoch 68 | train_loss:1.514140307663093, valid_loss:1.4413525019580176\n",
      "Epoch 69 | train_loss:1.6641549208942945, valid_loss:1.4023158357747656\n",
      "Epoch 70 | train_loss:1.5068800941717801, valid_loss:1.4681540019015202\n",
      "Epoch 71 | train_loss:1.5098371037714637, valid_loss:1.6085180649402921\n",
      "Epoch 72 | train_loss:1.534607627041153, valid_loss:1.497505348904452\n",
      "Epoch 73 | train_loss:1.5410770327076453, valid_loss:1.6249493990501584\n",
      "Epoch 74 | train_loss:1.5387977556669723, valid_loss:1.4675890932027569\n",
      "Epoch 75 | train_loss:1.5033594360000886, valid_loss:1.5393848014724378\n",
      "Epoch 76 | train_loss:1.5259920484256468, valid_loss:1.5501598140093156\n",
      "Epoch 77 | train_loss:1.5650877696520986, valid_loss:1.4232351596428383\n",
      "Epoch 78 | train_loss:1.5320891300576096, valid_loss:1.4097596337995273\n",
      "Epoch 79 | train_loss:1.5365865289856115, valid_loss:1.5283433707298295\n",
      "Epoch 80 | train_loss:1.522240776112948, valid_loss:1.5579320098634641\n",
      "Epoch 81 | train_loss:1.601160048369046, valid_loss:1.7500942619884496\n",
      "Epoch 82 | train_loss:1.6017247907492347, valid_loss:1.4796211373695556\n",
      "Epoch 83 | train_loss:1.5735501761508845, valid_loss:1.4494234455549178\n",
      "Epoch 84 | train_loss:1.5456709288036345, valid_loss:1.3983691470371271\n",
      "Epoch 85 | train_loss:1.5329723269886308, valid_loss:1.564039963958848\n",
      "Epoch 86 | train_loss:1.55878652286859, valid_loss:1.5835812625662322\n",
      "Epoch 87 | train_loss:1.618869940253368, valid_loss:1.5703392979627895\n",
      "Epoch 88 | train_loss:1.5827669034413554, valid_loss:1.5340456174855184\n",
      "Epoch 89 | train_loss:1.5894493068564741, valid_loss:1.5362497578104437\n",
      "Epoch 90 | train_loss:1.5803135689174113, valid_loss:1.524180168933894\n",
      "Epoch 91 | train_loss:1.6318448764101048, valid_loss:1.5213760544357273\n",
      "Epoch 92 | train_loss:1.5823664743213177, valid_loss:1.4061970226917653\n",
      "Epoch 93 | train_loss:1.5851918881547633, valid_loss:1.521307305637328\n",
      "Epoch 94 | train_loss:1.5950054210601465, valid_loss:1.501487273247141\n",
      "Epoch 95 | train_loss:1.5882695446928246, valid_loss:1.492774471389895\n",
      "Epoch 96 | train_loss:1.6108151867253335, valid_loss:1.5241633730378628\n",
      "Epoch 97 | train_loss:1.5792667592848177, valid_loss:1.4737774958057184\n",
      "Epoch 98 | train_loss:1.5921097999897105, valid_loss:1.5094533172849025\n",
      "Epoch 99 | train_loss:1.579477293987299, valid_loss:1.460019741902762\n",
      "Epoch 100 | train_loss:1.5752495586396749, valid_loss:1.458760187329253\n"
     ]
    }
   ],
   "source": [
    "\n"
   ]
  },
  {
   "cell_type": "code",
   "execution_count": 97,
   "metadata": {},
   "outputs": [
    {
     "name": "stdout",
     "output_type": "stream",
     "text": [
      "23.64778208732605\n"
     ]
    }
   ],
   "source": [
    "with open(\"./results/GCN_all\", \"rb\") as f:\n",
    "    print(pickle.load(f)[\"time\"])"
   ]
  },
  {
   "cell_type": "code",
   "execution_count": 169,
   "metadata": {},
   "outputs": [
    {
     "data": {
      "text/plain": [
       "<matplotlib.legend.Legend at 0x7f60b7ae94d0>"
      ]
     },
     "execution_count": 169,
     "metadata": {},
     "output_type": "execute_result"
    },
    {
     "data": {
      "image/png": "[encoded data removed]",
      "text/plain": [
       "<Figure size 640x480 with 1 Axes>"
      ]
     },
     "metadata": {},
     "output_type": "display_data"
    }
   ],
   "source": [
    "with open(\"./results/GCN_all\", \"rb\") as f:\n",
    "    results_all = pickle.load(f)\n",
    "with open(\"./results/GCN_without_aromatic\", \"rb\") as f:\n",
    "    results_reduced = pickle.load(f)\n",
    "plt.plot([i[\"train_loss\"] for i in results_all[\"results\"]], label=\"training_all\")\n",
    "#plt.plot([i[\"valid_loss\"] for i in results_all[\"results\"]], label=\"validation_all\")\n",
    "plt.plot([i[\"train_loss\"] for i in results_reduced[\"results\"]], label=\"training_atomtype\")\n",
    "#plt.plot([i[\"valid_loss\"] for i in results_reduced[\"results\"]], label=\"validation_atmtype\")\n",
    "plt.xlabel(\"epoch\")\n",
    "plt.ylabel(\"RMSE\")\n",
    "plt.legend()"
   ]
  },
  {
   "cell_type": "code",
   "execution_count": 123,
   "metadata": {},
   "outputs": [
    {
     "name": "stdout",
     "output_type": "stream",
     "text": [
      "13.06622576713562\n"
     ]
    }
   ],
   "source": [
    "print(results_all[\"time\"]-results_atomtype[\"time\"])"
   ]
  },
  {
   "cell_type": "code",
   "execution_count": 117,
   "metadata": {},
   "outputs": [
    {
     "data": {
      "text/plain": [
       "<matplotlib.legend.Legend at 0x7f60b77045d0>"
      ]
     },
     "execution_count": 117,
     "metadata": {},
     "output_type": "execute_result"
    },
    {
     "data": {
      "image/png": "[encoded data removed]",
      "text/plain": [
       "<Figure size 640x480 with 1 Axes>"
      ]
     },
     "metadata": {},
     "output_type": "display_data"
    }
   ],
   "source": [
    "plt.plot([i[\"train_loss\"] for i in results[\"results\"]], label=\"training\")\n",
    "plt.plot([i[\"valid_loss\"] for i in results[\"results\"]], label=\"validation\")\n",
    "plt.xlabel(\"epoch\")\n",
    "plt.ylabel(\"RMSE\")\n",
    "plt.legend()"
   ]
  },
  {
   "cell_type": "code",
   "execution_count": 66,
   "metadata": {},
   "outputs": [
    {
     "data": {
      "text/plain": [
       "[<matplotlib.lines.Line2D at 0x7f5fbd932a90>]"
      ]
     },
     "execution_count": 66,
     "metadata": {},
     "output_type": "execute_result"
    },
    {
     "data": {
      "image/png": "[encoded data removed]",
      "text/plain": [
       "<Figure size 640x480 with 1 Axes>"
      ]
     },
     "metadata": {},
     "output_type": "display_data"
    }
   ],
   "source": [
    "plt.plot([i[\"train_loss\"] for i in results])\n",
    "plt.plot([i[\"valid_loss\"] for i in results])"
   ]
  },
  {
   "cell_type": "code",
   "execution_count": 55,
   "metadata": {},
   "outputs": [],
   "source": [
    "with open(\"./results/GCN_all\", \"wb\") as f:\n",
    "    pickle.dump(results, f)"
   ]
  },
  {
   "cell_type": "code",
   "execution_count": 26,
   "metadata": {},
   "outputs": [],
   "source": [
    "with open(\"./dataset_all_desc\", \"wb\") as f:\n",
    "    pickle.dump(dataset, f)"
   ]
  },
  {
   "cell_type": "code",
   "execution_count": 29,
   "metadata": {},
   "outputs": [
    {
     "data": {
      "text/plain": [
       "MyQM9(130831)"
      ]
     },
     "execution_count": 29,
     "metadata": {},
     "output_type": "execute_result"
    }
   ],
   "source": [
    "with open(\"./dataset_all_desc\", \"rb\")  as f:\n",
    "    dataset = pickle.load(f)\n",
    "dataset"
   ]
  },
  {
   "cell_type": "markdown",
   "metadata": {},
   "source": [
    "x: ノード特徴量\n",
    "\n",
    "y: 正解ラベル\n",
    "\n",
    "pos: 原子の座標\n",
    "\n",
    "edge_index: エッジインデックス\n",
    "\n",
    "edge_attr: エッジ特徴量(使えん)"
   ]
  },
  {
   "cell_type": "markdown",
   "metadata": {},
   "source": [
    "ノード特徴量\n",
    "type_idx: 原子の種類 \n",
    "aromatic: 芳香性\n",
    "sp: sp混成\n",
    "sp2: sp2混成\n",
    "sp3: sp3混成"
   ]
  },
  {
   "cell_type": "code",
   "execution_count": 53,
   "metadata": {},
   "outputs": [
    {
     "data": {
      "image/png": "[encoded data removed]",
      "text/plain": [
       "<Figure size 1000x1000 with 1 Axes>"
      ]
     },
     "metadata": {},
     "output_type": "display_data"
    }
   ],
   "source": [
    "import networkx\n",
    "from matplotlib import pyplot as plt\n",
    "import numpy as np\n",
    "from torch_geometric.utils import to_networkx\n",
    "\n",
    "data = dataset[100]\n",
    "nxg = to_networkx(data)\n",
    "\n",
    "#原子番号追加\n",
    "elements = {\n",
    "    1:\"H\",\n",
    "    2:\"He\",\n",
    "    3:\"Li\",\n",
    "    4:\"Be\",\n",
    "    5:\"B\",\n",
    "    6:\"C\",\n",
    "    7:\"N\",\n",
    "    8:\"O\",\n",
    "    9:\"F\"\n",
    "}\n",
    "elem_labels = {}\n",
    "for i in range(data.num_nodes):\n",
    "    elem = elements[int(data.z[i])]\n",
    "    elem_labels[i] = elem\n",
    "\n",
    "pagerank = networkx.pagerank(nxg) #pagerankはノードの中心性(重要性の指標)\n",
    "pagerank_max = np.array(list(pagerank.values())).max()\n",
    "\n",
    "#可視化する時のノード位置\n",
    "draw_position = networkx.spring_layout(nxg,seed=0)\n",
    "\n",
    "plt.figure(figsize=(10,10))\n",
    "\n",
    "networkx.draw_networkx_nodes(nxg,\n",
    "                            draw_position,\n",
    "                            node_size=[v / pagerank_max * 1000 for v in pagerank.values()]\n",
    "                            )\n",
    "\n",
    "networkx.draw_networkx_edges(nxg, draw_position, arrowstyle='-', alpha=0.2)\n",
    "networkx.draw_networkx_labels(nxg, draw_position, elem_labels, font_size=10)\n",
    "plt.show()"
   ]
  },
  {
   "cell_type": "code",
   "execution_count": 52,
   "metadata": {},
   "outputs": [
    {
     "ename": "TypeError",
     "evalue": "descriptor 'max' for 'numpy.generic' objects doesn't apply to a 'str' object",
     "output_type": "error",
     "traceback": [
      "\u001b[0;31m---------------------------------------------------------------------------\u001b[0m",
      "\u001b[0;31mTypeError\u001b[0m                                 Traceback (most recent call last)",
      "\u001b[1;32m/home/higuchi/Pytorch/GCN/OwnModel/PyG_ownmodel.ipynb セル 20\u001b[0m line \u001b[0;36m1\n\u001b[0;32m----> <a href='vscode-notebook-cell://ssh-remote%2B133.28.55.142/home/higuchi/Pytorch/GCN/OwnModel/PyG_ownmodel.ipynb#X42sdnNjb2RlLXJlbW90ZQ%3D%3D?line=0'>1</a>\u001b[0m np\u001b[39m.\u001b[39;49mint64\u001b[39m.\u001b[39;49mmax(\u001b[39m\"\u001b[39;49m\u001b[39maaa\u001b[39;49m\u001b[39m\"\u001b[39;49m)\n",
      "\u001b[0;31mTypeError\u001b[0m: descriptor 'max' for 'numpy.generic' objects doesn't apply to a 'str' object"
     ]
    }
   ],
   "source": []
  }
 ],
 "metadata": {
  "kernelspec": {
   "display_name": "Python 3 (ipykernel)",
   "language": "python",
   "name": "python3"
  },
  "language_info": {
   "codemirror_mode": {
    "name": "ipython",
    "version": 3
   },
   "file_extension": ".py",
   "mimetype": "text/x-python",
   "name": "python",
   "nbconvert_exporter": "python",
   "pygments_lexer": "ipython3",
   "version": "3.11.6"
  }
 },
 "nbformat": 4,
 "nbformat_minor": 2
}
