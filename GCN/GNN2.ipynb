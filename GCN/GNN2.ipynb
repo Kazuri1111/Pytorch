{
 "cells": [
  {
   "cell_type": "code",
   "execution_count": 5,
   "metadata": {},
   "outputs": [
    {
     "data": {
      "text/plain": [
       "QM9(130831)"
      ]
     },
     "execution_count": 5,
     "metadata": {},
     "output_type": "execute_result"
    }
   ],
   "source": [
    "import torch\n",
    "import torch.nn.functional as F\n",
    "import torch_geometric\n",
    "from tqdm import tqdm\n",
    "import torch\n",
    "import torch.nn.functional as F\n",
    "import torch_geometric\n",
    "from tqdm import tqdm\n",
    "\n",
    "# QM9をグラフ構造にしたもの\n",
    "dataset = torch_geometric.datasets.qm9.QM9(root=\"./QM9\") \n",
    "dataset"
   ]
  },
  {
   "attachments": {},
   "cell_type": "markdown",
   "metadata": {},
   "source": [
    "PyG DOcumentation\n",
    "https://pytorch-geometric.readthedocs.io/en/latest/index.html\n"
   ]
  },
  {
   "cell_type": "code",
   "execution_count": 6,
   "metadata": {},
   "outputs": [
    {
     "name": "stderr",
     "output_type": "stream",
     "text": [
      "100%|██████████| 130831/130831 [00:20<00:00, 6308.47it/s]\n"
     ]
    },
    {
     "data": {
      "text/plain": [
       "QM9 (#graphs=130831):\n",
       "+------------+----------+----------+\n",
       "|            |   #nodes |   #edges |\n",
       "|------------+----------+----------|\n",
       "| mean       |     18   |     37.3 |\n",
       "| std        |      2.9 |      6.3 |\n",
       "| min        |      3   |      4   |\n",
       "| quantile25 |     16   |     34   |\n",
       "| median     |     18   |     38   |\n",
       "| quantile75 |     20   |     42   |\n",
       "| max        |     29   |     56   |\n",
       "+------------+----------+----------+"
      ]
     },
     "execution_count": 6,
     "metadata": {},
     "output_type": "execute_result"
    }
   ],
   "source": [
    "\n",
    "dataset.atomref(6) #原子番号の何か座標みたいなやつ\n",
    "dataset.collate\n",
    "dataset.get(1)\n",
    "dataset.get_summary() #分子のノードとエッジの数の平均や標準偏差などが出る"
   ]
  },
  {
   "cell_type": "code",
   "execution_count": 7,
   "metadata": {},
   "outputs": [
    {
     "data": {
      "text/plain": [
       "QM9(5)"
      ]
     },
     "execution_count": 7,
     "metadata": {},
     "output_type": "execute_result"
    }
   ],
   "source": [
    "dataset.index_select((1,2,3,4,5)) # datasetの一部をidx指定で取り出せる"
   ]
  },
  {
   "cell_type": "code",
   "execution_count": null,
   "metadata": {},
   "outputs": [],
   "source": [
    "dataset.len() #グラフの数\n",
    "dataset.log #boolen\n",
    "dataset.mean(target=(1,2,3)) #idx指定で一部の平均が取れる\n",
    "dataset.std((1,2,3))\n",
    "dataset.num_classes # クラスの数\n",
    "dataset.num_edge_features #エッジの特徴量の数(結合次数やね)\n",
    "dataset.num_features #特徴量の数\n",
    "dataset.num_node_features # ノードの特徴量の数\n",
    "dataset.pre_filter\n",
    "dataset.pre_transform\n",
    "#dataset.print_summary()\n",
    "dataset.raw_dir\n",
    "dataset.shuffle\n",
    "dataset.slices\n",
    "dataset.to_datapipe\n",
    "dataset.transform"
   ]
  },
  {
   "cell_type": "code",
   "execution_count": null,
   "metadata": {},
   "outputs": [],
   "source": [
    "def check_graph(data):\n",
    "    '''グラフ情報を表示'''\n",
    "    print(\"グラフ構造:\", data)\n",
    "    print(\"グラフのキー: \", data.keys)\n",
    "    print(\"ノード数:\", data.num_nodes)\n",
    "    print(\"エッジ数:\", data.num_edges)\n",
    "    print(\"ノードの特徴量数:\", data.num_node_features)\n",
    "    print(\"孤立したノードの有無:\", data.has_isolated_nodes())\n",
    "    print(\"自己ループの有無:\", data.has_self_loops())\n",
    "    print(\"====== ノードの属性:x ======\")\n",
    "    print(data['x'])\n",
    "    print(\"====== ノードのクラス:y ======\")\n",
    "    print(data['y'])\n",
    "    print(\"========= エッジ形状 =========\")\n",
    "    print(data['edge_index'])\n",
    "\n",
    "data = dataset[60000] #n個目のグラフ\n",
    "check_graph(data)\n",
    "#QM9のcsvより 分子の特徴量：mol_id,A,B,C,mu,alpha,homo,lumo,gap,r2,zpve,u0,u298,h298,g298,cv,u0_atom,u298_atom,h298_atom,g298_atom\n"
   ]
  },
  {
   "attachments": {},
   "cell_type": "markdown",
   "metadata": {},
   "source": [
    "QM9の物性値\n",
    "1\ttag\t—\t‘gdb9’ string to facilitate extraction\n",
    "2\ti\t—\tConsecutive, 1-based integer identifier\n",
    "3\tA\tGHz\tRotational constant\n",
    "4\tB\tGHz\tRotational constant\n",
    "5\tC\tGHz\tRotational constant\n",
    "6\tμ\tD\tDipole moment\n",
    "7\tα\t\tIsotropic polarizability\n",
    "8\tϵHOMO\tHa\tEnergy of HOMO\n",
    "9\tϵLUMO\tHa\tEnergy of LUMO\n",
    "10\tϵgap\tHa\tGap (ϵLUMO−ϵHOMO)\n",
    "11\t〈R2〉\t\tElectronic spatial extent\n",
    "12\tzpve\tHa\tZero point vibrational energy\n",
    "13\tU 0\tHa\tInternal energy at 0 K\n",
    "14\tU\tHa\tInternal energy at 298.15 K\n",
    "15\tH\tHa\tEnthalpy at 298.15 K\n",
    "16\tG\tHa\tFree energy at 298.15 K\n",
    "17\tC v\tcal/molK\tHeat capacity at 298.15 K"
   ]
  },
  {
   "cell_type": "code",
   "execution_count": 3,
   "metadata": {},
   "outputs": [
    {
     "data": {
      "image/png": "[encoded data removed]",
      "text/plain": [
       "<Figure size 1000x1000 with 1 Axes>"
      ]
     },
     "metadata": {},
     "output_type": "display_data"
    }
   ],
   "source": [
    "# グラフ構造の可視化\n",
    "import networkx\n",
    "from matplotlib import pyplot as plt\n",
    "import numpy as np\n",
    "from torch_geometric.utils import to_networkx\n",
    "\n",
    "data = dataset[0]\n",
    "nxg = to_networkx(data)\n",
    "\n",
    "pagerank = networkx.pagerank(nxg) #pagerankはノードの中心性(重要性の指標)\n",
    "pagerank_max = np.array(list(pagerank.values())).max()\n",
    "\n",
    "#可視化する時のノード位置\n",
    "draw_position = networkx.spring_layout(nxg,seed=0)\n",
    "\n",
    "# 色指定\n",
    "color_map = plt.get_cmap(\"tab10\")\n",
    "labels = data.y.numpy()\n",
    "colors = [color_map(i) for i in labels]\n",
    "\n",
    "plt.figure(figsize=(10,10))\n",
    "networkx.draw_networkx_nodes(nxg,\n",
    "                            draw_position,\n",
    "                            node_size=[v / pagerank_max * 1000 for v in pagerank.values()],\n",
    "                            #node_color=colors, alpha=0.5\n",
    "                            )\n",
    "\n",
    "networkx.draw_networkx_edges(nxg, draw_position, arrowstyle='-', alpha=0.2)\n",
    "networkx.draw_networkx_labels(nxg, draw_position, font_size=10)\n",
    " \n",
    "plt.title('QM9')\n",
    "plt.show()\n",
    "\n"
   ]
  },
  {
   "attachments": {},
   "cell_type": "markdown",
   "metadata": {},
   "source": [
    "Pytorch GeometricでGNNの入門\n",
    "https://cpp-learning.com/pytorch-geometric/#PyTorch_Geometric\n",
    "\n",
    "torch_geometric.datasets.QM9\n",
    "https://pytorch-geometric.readthedocs.io/en/latest/generated/torch_geometric.datasets.QM9.html\n",
    "parameters:\n",
    "root\n",
    "transform\n",
    "pre_transform\n",
    "pre_filter"
   ]
  },
  {
   "cell_type": "code",
   "execution_count": 4,
   "metadata": {},
   "outputs": [
    {
     "name": "stderr",
     "output_type": "stream",
     "text": [
      "/home/higuchi/mambaforge/envs/torchenv/lib/python3.10/site-packages/torch_geometric/deprecation.py:22: UserWarning: 'data.DataLoader' is deprecated, use 'loader.DataLoader' instead\n",
      "  warnings.warn(out)\n"
     ]
    }
   ],
   "source": [
    "size = len(dataset)\n",
    "loader = torch_geometric.data.DataLoader(dataset[:int(size*0.8)],batch_size=64,shuffle=True)\n",
    "test_loader = torch_geometric.data.DataLoader(dataset[int(size*0.8)],batch_size=64,shuffle=True)\n",
    "nn = torch.nn\n",
    "\n",
    "def mlp(input_dim, hidden_dim):\n",
    "    return nn.Sequential(\n",
    "        nn.Linear(input_dim, hidden_dim),\n",
    "        nn.ReLU(),\n",
    "        nn.Linear(hidden_dim,hidden_dim)\n",
    "    )\n",
    "\n",
    "class GNNModel(nn.Module):\n",
    "    def __init__(self, input_dim, hidden_dim, output_dim):\n",
    "        super(GNNModel, self).__init__()\n",
    "        self.convs = nn.ModuleList() #modelをリスト形式で保存\n",
    "        self.convs.append(torch_geometric.nn.GINConv(mlp(input_dim,hidden_dim)))\n",
    "        for i in range(2):\n",
    "            self.convs.append(torch_geometric.nn.GINConv(mlp(hidden_dim,hidden_dim)))\n",
    "        self.head = nn.Sequential(\n",
    "            nn.Linear(hidden_dim,hidden_dim),\n",
    "            nn.Dropout(0.25),\n",
    "            nn.Linear(hidden_dim,output_dim)\n",
    "        )\n",
    "    \n",
    "    def forward(self, data):\n",
    "        x, edge_index, batch = data.x, data.edge_index, data.batch\n",
    "        for conv in self.convs:\n",
    "            x = conv(x, edge_index)\n",
    "            x = F.relu(x)\n",
    "            x = F.dropout(x, p=0.25, training=self.training)\n",
    "        x = torch_geometric.nn.global_mean_pool(x,batch)\n",
    "        x = self.head(x)\n",
    "        return x\n",
    "        "
   ]
  },
  {
   "attachments": {},
   "cell_type": "markdown",
   "metadata": {},
   "source": [
    "torch_geometric: これだけで"
   ]
  },
  {
   "cell_type": "code",
   "execution_count": null,
   "metadata": {},
   "outputs": [],
   "source": [
    "loader.dataset.get(1)"
   ]
  },
  {
   "cell_type": "code",
   "execution_count": null,
   "metadata": {},
   "outputs": [],
   "source": [
    "model = GNNModel(dataset.num_node_features, 32, dataset.num_classes)\n",
    "opt = torch.optim.Adam(model.parameters(), lr=0.01)\n",
    "loss_f = nn.MSELoss(reduction=\"sum\")\n",
    "\n",
    "for epoch in range(100):\n",
    "    total_loss = 0\n",
    "    model.train()\n",
    "    for batch in tqdm(loader):\n",
    "        opt.zero_grad()\n",
    "        pred = model(batch)\n",
    "        loss = loss_f(pred, batch.y)\n",
    "        loss.backward()\n",
    "        opt.step()\n",
    "        total_loss += loss.item() * batch.num_graphs\n",
    "    total_loss /= len(loader.dataset)\n",
    "    print(\"loss:\", total_loss, epoch)        "
   ]
  }
 ],
 "metadata": {
  "kernelspec": {
   "display_name": "pytorch",
   "language": "python",
   "name": "python3"
  },
  "language_info": {
   "codemirror_mode": {
    "name": "ipython",
    "version": 3
   },
   "file_extension": ".py",
   "mimetype": "text/x-python",
   "name": "python",
   "nbconvert_exporter": "python",
   "pygments_lexer": "ipython3",
   "version": "3.10.11"
  },
  "orig_nbformat": 4
 },
 "nbformat": 4,
 "nbformat_minor": 2
}
