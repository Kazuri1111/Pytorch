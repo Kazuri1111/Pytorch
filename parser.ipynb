{
 "cells": [
  {
   "cell_type": "code",
   "execution_count": 17,
   "metadata": {},
   "outputs": [
    {
     "data": {
      "text/plain": [
       "32"
      ]
     },
     "execution_count": 17,
     "metadata": {},
     "output_type": "execute_result"
    }
   ],
   "source": [
    "with open(\"./GCN/alpha\") as f:\n",
    "    lines_tmp = f.readlines()\n",
    "calc_list = []\n",
    "line = lines_tmp.pop(1)\n",
    "if line.startswith(\"N=\"):\n",
    "    layer = int(line[line.find(\"=\")+1:].split(\",\")[0])\n",
    "    hidden = int(line[line.find(\"=\")+1:].split(\",\")[1].split(\" \")[0])\n",
    "while True:\n",
    "    line = lines_tmp.pop(0)\n",
    "    if line.startswith(\"Epoch 50\"):\n",
    "        result = line\n",
    "        result = \n"
   ]
  }
 ],
 "metadata": {
  "kernelspec": {
   "display_name": "Python 3",
   "language": "python",
   "name": "python3"
  },
  "language_info": {
   "codemirror_mode": {
    "name": "ipython",
    "version": 3
   },
   "file_extension": ".py",
   "mimetype": "text/x-python",
   "name": "python",
   "nbconvert_exporter": "python",
   "pygments_lexer": "ipython3",
   "version": "3.10.11"
  },
  "orig_nbformat": 4
 },
 "nbformat": 4,
 "nbformat_minor": 2
}
